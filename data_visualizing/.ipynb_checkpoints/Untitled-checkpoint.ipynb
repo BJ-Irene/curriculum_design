{
 "cells": [
  {
   "cell_type": "code",
   "execution_count": null,
   "metadata": {},
   "outputs": [],
   "source": [
    "from wordcloud import WordCloud\n",
    "import matplotlib.pyplot as plt\n",
    "\n",
    "d=path.dirname(\"__file__\")\n",
    "\n",
    "text=open('test.txt','r').read()\n",
    "\n",
    "font =r'C:\\Windows\\Fonts\\simfang.ttf'\n",
    "wc=WordCloud(collocations=False,font_path=font,width=800,height=600,margin=2).generate(text)\n",
    "\n",
    "plt.imshow(wc)\n",
    "plt.axis('off')\n",
    "plt.show()\n",
    "\n",
    "wc.to_file('test.jpg')"
   ]
  }
 ],
 "metadata": {
  "kernelspec": {
   "display_name": "Python 3",
   "language": "python",
   "name": "python3"
  },
  "language_info": {
   "codemirror_mode": {
    "name": "ipython",
    "version": 3
   },
   "file_extension": ".py",
   "mimetype": "text/x-python",
   "name": "python",
   "nbconvert_exporter": "python",
   "pygments_lexer": "ipython3",
   "version": "3.6.3"
  }
 },
 "nbformat": 4,
 "nbformat_minor": 2
}
